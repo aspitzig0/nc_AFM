{
 "cells": [
  {
   "cell_type": "markdown",
   "id": "99645436-6131-45fd-9b3d-9c4c692f7884",
   "metadata": {},
   "source": [
    "## (B)  Build a minimal generative model and use it to analyze test data"
   ]
  },
  {
   "cell_type": "markdown",
   "id": "66105bfe-68cf-4a37-9375-14b541d6f753",
   "metadata": {},
   "source": [
    "### 1. Import your package in the documentation notebook."
   ]
  },
  {
   "cell_type": "code",
   "execution_count": 1,
   "id": "24585890-504e-48d8-a07f-b8990137cf33",
   "metadata": {},
   "outputs": [],
   "source": [
    "import lennardjones"
   ]
  },
  {
   "cell_type": "markdown",
   "id": "d896d034-dbab-4225-b1d5-39e01cbd3beb",
   "metadata": {},
   "source": [
    "### 2. Describe your generative model."
   ]
  },
  {
   "cell_type": "markdown",
   "id": "f0b2cde4-75dd-4e6f-901f-b9c00626eb52",
   "metadata": {},
   "source": [
    "#### We will start with just the Lennard Jones model.\n",
    "\n",
    "The Lennard Jones *potential* has a well known phenominolgical model:\n",
    "\n",
    "$$ U_\\text{LJ} = 4 \\epsilon \\left ( \\frac{\\sigma_\\text{LJ}^{12}}{z^{12}} - \\frac{\\sigma_\\text{LJ}^6}{z^6} \\right ) $$\n",
    "\n",
    "Where $\\epsilon$ is the depth of the well (or 'strength' of the interaction), $\\sigma$ is distance when the potential is 0 (or the 'size' of the interacting particles), and $z$ is the distance between the particles.\n",
    "\n",
    "To compute the force, $F = -\\partial U / \\partial z$, so \n",
    "$$ F_\\text{LJ} = 4 \\epsilon \\left ( \\frac{12\\sigma_\\text{LJ}^{12}}{z^{13}} - \\frac{6\\sigma_\\text{LJ}^6}{z^7} \\right ) $$"
   ]
  },
  {
   "cell_type": "markdown",
   "id": "fa11d17d-1708-4019-bbb7-f1863733c852",
   "metadata": {},
   "source": [
    "The goal of the first task is to fit to the above model, using $\\epsilon$ and $\\sigma$ as parameters. "
   ]
  },
  {
   "cell_type": "markdown",
   "id": "5b0e3934-3380-46ff-9743-f3738640adcc",
   "metadata": {},
   "source": [
    "However, the measured data is frequency shift (df) and must be first coverted to force. This is done using the Sader-Jarvis method, which takes an intergral over the distance data, starting at the closest $z$ position. \n",
    "\n",
    "All parameters in the Sader-Jarvis formula are known experimental parameters. "
   ]
  },
  {
   "cell_type": "markdown",
   "id": "fa7b9acb-4324-4e59-a679-36922b41da79",
   "metadata": {},
   "source": [
    "#### Sader-Jarvis method to convert to force\n",
    "\n",
    "$$ F_\\text{meas} = 2k \\int_z^\\inf \\left ( 1 +  \\frac{a^{1/2}}{8 \\sqrt{\\pi(t-z)}} \\right ) d\\Omega(t) - \\frac{a^{3/2}}{\\sqrt{2(t-z)}} \\frac{d \\Omega(t)}{dt} dt $$\n",
    "\n",
    "where $k$ is the spring constant of the tuning fork, $a$ is the oscillation amplitude, $\\Omega(z) = d\\omega(z)/ \\omega_0 = d\\text{f}(z)/\\text{f}_0$, and $t$ is the integration variable.\n",
    "\n",
    "$k$ and $a$ are experiemental details that are known.\n"
   ]
  },
  {
   "cell_type": "markdown",
   "id": "a4c762ad-1379-44d0-96b9-77076a6c8db0",
   "metadata": {},
   "source": [
    "#### Experimental considerations\n",
    "\n",
    "The raw data is frequency shift df and position of the piezo $z'$. \n",
    "\n",
    "**df**\n",
    "\n",
    "The frequency shift is the measured data and has noise. Based on traces taken far from the sample, the background noise on this measurement is $\\sigma_\\text{df} = 0.5$ Hz. \n",
    "\n",
    "***z'***\n",
    "\n",
    "To keep things simple the first time, we will set the position of the sample $z_0$ equal to 0.5 nm below the lowest $z'$ position. Thus the tip position relative to the sample (i.e. the $z$ in the above equations) becomes $z$ = $z'$ -   $z_\\text{min}$ - 0.5 nm."
   ]
  },
  {
   "cell_type": "markdown",
   "id": "fa761794-dd83-4bb1-9595-2819e10580d3",
   "metadata": {},
   "source": [
    "$k$ = 1800 N/m\n",
    "\n",
    "$a$ = 0.5 nm\n",
    "\n",
    "In all honesty it is quite possible there is a 10 % uncertainty on each of these parameters as well. It may be desirable to include that as a prior and marginalize out the small range.\n",
    "\n",
    "However, again to keep things simple in this first itteration, we will assume the values above are exact. "
   ]
  },
  {
   "cell_type": "markdown",
   "id": "4410b4aa-5461-42ae-bccc-6dbf5e3acb16",
   "metadata": {},
   "source": [
    "Given all of this, there are *no* parameters in the force calculation and so we should simple be able to perform the calculation; however, the uncertainty needs to also be converted from df to force (i.e. $\\sigma_\\text{df} \\rightarrow \\sigma_\\text{force}$ )"
   ]
  },
  {
   "cell_type": "markdown",
   "id": "eddaf487-2f24-4a51-a6ad-f68c8d95f98e",
   "metadata": {},
   "source": [
    "##### Use the notation we introduced in the course to describe your statistical model, which should include the priors\n",
    "\n",
    "I'm a little stuck on this because of the Sader-Jarvis conversion on the y-data. After that however, it would be:\n",
    "\n",
    "**model**\n",
    "\n",
    "$\\mu$ = 4 $\\epsilon$ (12$\\sigma^{12}$/$z^{13}$ - 6$\\sigma^{6}$/$z^{7}$)\n",
    "\n",
    "**priors**\n",
    "\n",
    "$\\epsilon$ ~ Uniform(0,$\\inf$)\n",
    "\n",
    "$\\sigma_\\text{LJ}$ ~ Uniform(0,$\\inf$)\n",
    "\n",
    "**Add Gaussian noise to the model**\n",
    "\n",
    "F ~ normal($\\mu$ = $\\mu$, $\\sigma = \\sigma_\\text{force}$ )"
   ]
  },
  {
   "cell_type": "markdown",
   "id": "5e15bd01-e2ee-41ad-8ae6-a84f49ccbdda",
   "metadata": {},
   "source": [
    "### 3. Simulate some data using your generative model."
   ]
  },
  {
   "cell_type": "markdown",
   "id": "906bcde6-f83b-4795-a5dc-18bcae18da35",
   "metadata": {},
   "source": [
    "start with LJ force model and work backwards"
   ]
  },
  {
   "cell_type": "code",
   "execution_count": 2,
   "id": "f6ff0272-9b1c-49a5-ae6e-e8005645a434",
   "metadata": {},
   "outputs": [],
   "source": [
    "import numpy as np\n",
    "import scipy.stats\n",
    "import matplotlib.pyplot as plt"
   ]
  },
  {
   "cell_type": "code",
   "execution_count": 3,
   "id": "651ac883-ba71-4245-b4dc-30c9220530a7",
   "metadata": {},
   "outputs": [],
   "source": [
    "z = np.arange(0.1, 30, 0.2)*10**-9"
   ]
  },
  {
   "cell_type": "code",
   "execution_count": 4,
   "id": "a32eb6a0-4621-4013-b1c4-117e2b2857cf",
   "metadata": {},
   "outputs": [],
   "source": [
    "def simulate_data(epsilon, sigma, z):\n",
    "    \n",
    "    perfect_data = 4*epsilon*(12*sigma**12/z**13 - 6*sigma**6/z**7)\n",
    "    \n",
    "    #add some noise\n",
    "    data = perfect_data + scipy.stats.norm.rvs(loc=0, scale = 2*10**-9, size = len(z))\n",
    "    \n",
    "    #I know this will create something ~ nN\n",
    "    return perfect_data"
   ]
  },
  {
   "cell_type": "code",
   "execution_count": 31,
   "id": "60db1370-8b1f-4fec-8dab-10f2aba7c385",
   "metadata": {},
   "outputs": [],
   "source": [
    "#epsilon, the depth of the well, which I expect to be ~ nN\n",
    "eps = 7*10**-9\n",
    "\n",
    "#sigma LJ, 'size of particle', ~ 2 nm maybe?\n",
    "sLJ = 2*10**(-9)"
   ]
  },
  {
   "cell_type": "code",
   "execution_count": 32,
   "id": "15025c53-667e-481f-b1b0-34fcb38d909f",
   "metadata": {},
   "outputs": [
    {
     "data": {
      "text/plain": [
       "(-10.0, 10.0)"
      ]
     },
     "execution_count": 32,
     "metadata": {},
     "output_type": "execute_result"
    },
    {
     "data": {
      "image/png": "[encoded data removed]",
      "text/plain": [
       "<Figure size 432x288 with 1 Axes>"
      ]
     },
     "metadata": {
      "needs_background": "light"
     },
     "output_type": "display_data"
    }
   ],
   "source": [
    "plt.plot(z*10**9,simulate_data(eps, sLJ, z))\n",
    "\n",
    "#need to cut the range otherwise you can't see the feature\n",
    "plt.ylim([-10,10])"
   ]
  },
  {
   "cell_type": "code",
   "execution_count": 7,
   "id": "adf60572-320e-4116-9809-ae4e58525043",
   "metadata": {},
   "outputs": [],
   "source": [
    "F_testdata = simulate_data(eps, sLJ, z)"
   ]
  },
  {
   "cell_type": "markdown",
   "id": "179f503e-2b9e-40f9-b77e-53065ed23fb6",
   "metadata": {},
   "source": [
    "### 4. Infer parameters from your simulated data.\n",
    "\n",
    "Using pymc3"
   ]
  },
  {
   "cell_type": "code",
   "execution_count": 8,
   "id": "b7d05e41-2614-4ecd-ad30-a4efe2882204",
   "metadata": {},
   "outputs": [],
   "source": [
    "import pymc3 as pm\n",
    "import arviz as az\n",
    "import seaborn as sns"
   ]
  },
  {
   "cell_type": "markdown",
   "id": "bafaef78-6bd4-4ba1-b738-4537341cad18",
   "metadata": {},
   "source": [
    "Step 1: define the model"
   ]
  },
  {
   "cell_type": "code",
   "execution_count": 9,
   "id": "bb8fb996-21bd-41e1-a486-c66b990e38d2",
   "metadata": {},
   "outputs": [],
   "source": [
    "LJ_model = pm.Model()\n",
    "\n",
    "with LJ_model:\n",
    "    \n",
    "    epsilon = pm.HalfFlat('epsilon', testval = 5*10**-9)\n",
    "    sigma = pm.HalfFlat('sigma', testval = 0.1*10**-9)\n",
    "    \n",
    "    #model\n",
    "    F = 4*epsilon*(12*sigma**12/z**13 - 6*sigma**6/z**7)\n",
    "    \n",
    "    # Likelihood of observations (i.e. noise around model)\n",
    "    measurements = pm.Normal('F', mu=F, sigma=0.2*10**-9, observed=F_testdata)"
   ]
  },
  {
   "cell_type": "markdown",
   "id": "e0af4b38-fc29-44fc-998f-374119343589",
   "metadata": {},
   "source": [
    "Step 2: find the MAP (optional)"
   ]
  },
  {
   "cell_type": "code",
   "execution_count": 10,
   "id": "f58bb232-da29-4919-9cd5-adf406353390",
   "metadata": {},
   "outputs": [
    {
     "data": {
      "text/html": [
       "\n",
       "    <div>\n",
       "        <style>\n",
       "            /* Turns off some styling */\n",
       "            progress {\n",
       "                /* gets rid of default border in Firefox and Opera. */\n",
       "                border: none;\n",
       "                /* Needs to be in here for Safari polyfill so background images work as expected. */\n",
       "                background-size: auto;\n",
       "            }\n",
       "            .progress-bar-interrupted, .progress-bar-interrupted::-webkit-progress-bar {\n",
       "                background: #F44336;\n",
       "            }\n",
       "        </style>\n",
       "      <progress value='18' class='' max='18' style='width:300px; height:20px; vertical-align: middle;'></progress>\n",
       "      100.00% [18/18 00:00<00:00 logp = -3.4673e+28, ||grad|| = 1.2343e+32]\n",
       "    </div>\n",
       "    "
      ],
      "text/plain": [
       "<IPython.core.display.HTML object>"
      ]
     },
     "metadata": {},
     "output_type": "display_data"
    },
    {
     "name": "stdout",
     "output_type": "stream",
     "text": [
      "\n"
     ]
    },
    {
     "data": {
      "text/plain": [
       "{'epsilon_log__': array(-19.076521),\n",
       " 'sigma_log__': array(-22.35431705),\n",
       " 'epsilon': array(5.19005781e-09),\n",
       " 'sigma': array(1.95723719e-10)}"
      ]
     },
     "execution_count": 10,
     "metadata": {},
     "output_type": "execute_result"
    }
   ],
   "source": [
    "map_estimate = pm.find_MAP(model=LJ_model)\n",
    "map_estimate"
   ]
  },
  {
   "cell_type": "markdown",
   "id": "41b98ea0-326d-404a-8a98-3e18c347c4a2",
   "metadata": {},
   "source": [
    "Sample and plot samples:"
   ]
  },
  {
   "cell_type": "code",
   "execution_count": null,
   "id": "9634f7a5-ff19-49a4-ab7f-919f587202bf",
   "metadata": {},
   "outputs": [
    {
     "name": "stderr",
     "output_type": "stream",
     "text": [
      "Auto-assigning NUTS sampler...\n",
      "Initializing NUTS using jitter+adapt_diag...\n",
      "Multiprocess sampling (2 chains in 2 jobs)\n",
      "NUTS: [sigma, epsilon]\n"
     ]
    },
    {
     "data": {
      "text/html": [
       "\n",
       "    <div>\n",
       "        <style>\n",
       "            /* Turns off some styling */\n",
       "            progress {\n",
       "                /* gets rid of default border in Firefox and Opera. */\n",
       "                border: none;\n",
       "                /* Needs to be in here for Safari polyfill so background images work as expected. */\n",
       "                background-size: auto;\n",
       "            }\n",
       "            .progress-bar-interrupted, .progress-bar-interrupted::-webkit-progress-bar {\n",
       "                background: #F44336;\n",
       "            }\n",
       "        </style>\n",
       "      <progress value='45' class='' max='4000' style='width:300px; height:20px; vertical-align: middle;'></progress>\n",
       "      1.12% [45/4000 00:00<00:07 Sampling 2 chains, 0 divergences]\n",
       "    </div>\n",
       "    "
      ],
      "text/plain": [
       "<IPython.core.display.HTML object>"
      ]
     },
     "metadata": {},
     "output_type": "display_data"
    },
    {
     "name": "stderr",
     "output_type": "stream",
     "text": [
      "/opt/anaconda3/envs/phys201/lib/python3.9/site-packages/pymc3/step_methods/hmc/quadpotential.py:224: RuntimeWarning: divide by zero encountered in true_divide\n",
      "  np.divide(1, self._stds, out=self._inv_stds)\n",
      "/opt/anaconda3/envs/phys201/lib/python3.9/site-packages/pymc3/step_methods/hmc/quadpotential.py:203: RuntimeWarning: invalid value encountered in multiply\n",
      "  return np.multiply(self._var, x, out=out)\n"
     ]
    }
   ],
   "source": [
    "with LJ_model:\n",
    "    trace =pm.sample(1000, start = map_estimate, return_inferencedata=True)\n",
    "    az.plot_trace(trace);"
   ]
  },
  {
   "cell_type": "code",
   "execution_count": 11,
   "id": "ee5397a8-ba0f-4ea3-9730-b5a27d812dc8",
   "metadata": {},
   "outputs": [
    {
     "ename": "NameError",
     "evalue": "name 'trace' is not defined",
     "output_type": "error",
     "traceback": [
      "\u001b[0;31m---------------------------------------------------------------------------\u001b[0m",
      "\u001b[0;31mNameError\u001b[0m                                 Traceback (most recent call last)",
      "Input \u001b[0;32mIn [11]\u001b[0m, in \u001b[0;36m<module>\u001b[0;34m\u001b[0m\n\u001b[1;32m      1\u001b[0m \u001b[38;5;28;01mwith\u001b[39;00m LJ_model:\n\u001b[0;32m----> 2\u001b[0m     az\u001b[38;5;241m.\u001b[39mplot_posterior(\u001b[43mtrace\u001b[49m)\n",
      "\u001b[0;31mNameError\u001b[0m: name 'trace' is not defined"
     ]
    },
    {
     "name": "stdout",
     "output_type": "stream",
     "text": [
      "ERROR! Session/line number was not unique in database. History logging moved to new session 1033\n"
     ]
    }
   ],
   "source": [
    "with LJ_model:\n",
    "    az.plot_posterior(trace)"
   ]
  },
  {
   "cell_type": "code",
   "execution_count": null,
   "id": "2b7d4ae3-b79f-4c5e-aaf7-c7ddb81e8b77",
   "metadata": {},
   "outputs": [],
   "source": [
    "posterior_dataframe = trace.posterior.to_dataframe()"
   ]
  },
  {
   "cell_type": "code",
   "execution_count": null,
   "id": "1cea273c-107a-49a6-98f1-f55672b1b9b8",
   "metadata": {},
   "outputs": [],
   "source": [
    "joint_kde = sns.jointplot(x='epsilon', y='sigma', data=posterior_dataframe, kind='scatter', s=1)"
   ]
  },
  {
   "cell_type": "code",
   "execution_count": null,
   "id": "0207c7f5-94c3-4a75-9f16-a6995785ae43",
   "metadata": {},
   "outputs": [],
   "source": [
    "sns.pairplot(posterior_dataframe)"
   ]
  },
  {
   "cell_type": "markdown",
   "id": "90fc94b5-3111-40c0-93b0-110dd6e41f61",
   "metadata": {},
   "source": [
    "## Side quest: converting the error from $\\sigma_\\text{df}$ to $\\sigma_\\text{force}$"
   ]
  },
  {
   "cell_type": "markdown",
   "id": "3f2b2b9c-6f53-45fe-bfe2-7213fd90e22a",
   "metadata": {},
   "source": [
    "using the same z, let's trying to generate the df data, then use df+$\\sigma_\\text{df}$ in the Sader-Jarvis formula, then df-$\\sigma_\\text{df}$ in the formula to quantify $\\sigma_\\text{force}$. This will probably make $\\sigma$ an array instead of a fixed value."
   ]
  },
  {
   "cell_type": "markdown",
   "id": "45e6dc9a-bb4c-4a2b-80d7-023e1b449187",
   "metadata": {},
   "source": [
    "This is a really bad model (not really based on anything), but it's a good order of magntiude."
   ]
  },
  {
   "cell_type": "code",
   "execution_count": null,
   "id": "771bdc6f-54de-4831-810b-8779399a743e",
   "metadata": {},
   "outputs": [],
   "source": [
    "def simulate_df(B, C, z):\n",
    "    \n",
    "    perfect_data = 0.3*B**13/(z+5*10**-9)**13 - C/z**2\n",
    "    \n",
    "    return perfect_data/2*10**9"
   ]
  },
  {
   "cell_type": "code",
   "execution_count": null,
   "id": "977f07e1-47bf-4992-b1cc-0df876533c07",
   "metadata": {},
   "outputs": [],
   "source": [
    "plt.plot(z*10**9, simulate_df(3*10**-9, 2*10**-24,z))\n",
    "plt.xlim([0, 25]);\n",
    "plt.ylim([-40, 40]);"
   ]
  },
  {
   "cell_type": "markdown",
   "id": "aeabfce6-261b-41ed-8589-9d78e32dde93",
   "metadata": {},
   "source": [
    "Sader-Jarvis code I had already:"
   ]
  },
  {
   "cell_type": "code",
   "execution_count": null,
   "id": "99782c83-512e-4334-b096-3dcc5c3ed0e2",
   "metadata": {},
   "outputs": [],
   "source": [
    "a = 0.5*10**-9 #amplitude in meters\n",
    "k = 1800 # N/m \n",
    "f_0 = 19796.5 # central frequency f_0, Hz"
   ]
  },
  {
   "cell_type": "code",
   "execution_count": null,
   "id": "9e8c4872-4c4b-4f9a-b1b7-bbc01f3c575d",
   "metadata": {},
   "outputs": [],
   "source": [
    "def calculate_force(a,k,f_0, z, df_data):\n",
    "    \n",
    "    root_amplitude = np.sqrt(a)\n",
    "\n",
    "    const_2 = root_amplitude / (8*np.sqrt(np.pi)) #units sqrt m\n",
    "    const_3 = root_amplitude**3 / np.sqrt(2)      #units m * sqrt m\n",
    "\n",
    "    xdata = z\n",
    "    ydata = df_data\n",
    "    \n",
    "    new_size = len(z) -1\n",
    "\n",
    "    #creat empty array to store the calculation in\n",
    "    force_array = np.zeros([new_size])\n",
    "    \n",
    "    Omega = ydata / f_0\n",
    "    Omegadz = np.gradient(Omega) / np.gradient(xdata)\n",
    "\n",
    "    first_term = np.zeros([new_size])\n",
    "    second_term = np.zeros([new_size])\n",
    "    third_term = np.zeros([new_size])\n",
    "    correction_term = np.zeros([new_size])\n",
    "\n",
    "    for zi in range(0, new_size):\n",
    "        t = zi+1\n",
    "        root_t_z = np.sqrt((xdata[t:] - xdata[zi]))\n",
    "    \n",
    "        integral_1 = np.trapz((Omega[t:]), x = xdata[t:]) \n",
    "        integral_2 = np.trapz(((const_2 / root_t_z) * Omega[t:]), x = xdata[t:]) # \n",
    "    \n",
    "        first_term[zi] = 2 * k * (integral_1)\n",
    "        second_term[zi] = 2 * k * (integral_2)\n",
    "    \n",
    "        integral_3 = np.trapz(- const_3 / root_t_z * Omegadz[t:], x = xdata[t:])\n",
    "        third_term[zi] = np.real(2 * k * (integral_3))\n",
    "    \n",
    "        # correction terms for t=z from [2] mathematica notebook SJ\n",
    "        corr1 = Omega[zi] * (xdata[zi+1]-xdata[zi])\n",
    "        corr2 = 2 * const_2 * Omega[zi] * np.sqrt(xdata[t] - xdata[zi])\n",
    "        corr3 = -2 * const_3 * Omegadz[zi] * np.sqrt(xdata[t] - xdata[zi])\n",
    "        correction_term[zi] = 2 * k * (corr1 + corr2 + corr3)\n",
    "    \n",
    "    force_array = first_term+second_term+third_term+correction_term\n",
    "    \n",
    "    return force_array"
   ]
  },
  {
   "cell_type": "markdown",
   "id": "2fff8e55-5373-4483-9dab-5b917564a0a9",
   "metadata": {},
   "source": [
    "With this working, one thing we can do is *sample from it*. I'm not sure what that will look like, but it will allow us to encorporate the $z_0$ offset as a fitting parameter."
   ]
  },
  {
   "cell_type": "code",
   "execution_count": null,
   "id": "7044d1f8-1007-44ed-8bd0-cb0cad0a9afd",
   "metadata": {},
   "outputs": [],
   "source": [
    "plt.plot(z[:-1]*10**9, calculate_force(a,k,f_0, z, simulate_df(3*10**-9, 2*10**-24,z)))\n",
    "plt.plot(z[:-1]*10**9, calculate_force(a,k,f_0, z, simulate_df(3*10**-9, 2*10**-24,z)+0.5))\n",
    "plt.plot(z[:-1]*10**9, calculate_force(a,k,f_0, z, simulate_df(3*10**-9, 2*10**-24,z)-0.5))"
   ]
  },
  {
   "cell_type": "code",
   "execution_count": null,
   "id": "ca3a3035-c8cb-4513-aad3-4d0d6d9d8ae0",
   "metadata": {},
   "outputs": [],
   "source": [
    "d_force_upper = calculate_force(a,k,f, z, simulate_df(3*10**-9, 2*10**-24,z)+0.5)\n",
    "d_force_lower = calculate_force(a,k,f, z, simulate_df(3*10**-9, 2*10**-24,z)-0.5)"
   ]
  },
  {
   "cell_type": "code",
   "execution_count": null,
   "id": "e87c48e9-fdd9-407a-b19f-ae3b04611886",
   "metadata": {},
   "outputs": [],
   "source": [
    "d_force = (d_force_upper - d_force_lower)/2"
   ]
  },
  {
   "cell_type": "code",
   "execution_count": null,
   "id": "921a7a51-5dc2-4d03-b854-8cdecdc2802f",
   "metadata": {},
   "outputs": [],
   "source": [
    "plt.plot(z[:-1], d_force)"
   ]
  },
  {
   "cell_type": "code",
   "execution_count": null,
   "id": "a3466639-1b7b-45c8-97e4-3b5519be64ad",
   "metadata": {},
   "outputs": [],
   "source": []
  },
  {
   "cell_type": "code",
   "execution_count": null,
   "id": "d2aa8e91-65f9-4963-a76d-a8713893a3a2",
   "metadata": {},
   "outputs": [],
   "source": []
  }
 ],
 "metadata": {
  "kernelspec": {
   "display_name": "Python 3 (ipykernel)",
   "language": "python",
   "name": "python3"
  },
  "language_info": {
   "codemirror_mode": {
    "name": "ipython",
    "version": 3
   },
   "file_extension": ".py",
   "mimetype": "text/x-python",
   "name": "python",
   "nbconvert_exporter": "python",
   "pygments_lexer": "ipython3",
   "version": "3.9.9"
  }
 },
 "nbformat": 4,
 "nbformat_minor": 5
}
