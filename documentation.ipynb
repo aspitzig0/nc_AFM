{
 "cells": [
  {
   "cell_type": "markdown",
   "id": "99645436-6131-45fd-9b3d-9c4c692f7884",
   "metadata": {},
   "source": [
    "## (B)  Build a minimal generative model and use it to analyze test data"
   ]
  },
  {
   "cell_type": "markdown",
   "id": "66105bfe-68cf-4a37-9375-14b541d6f753",
   "metadata": {},
   "source": [
    "### 1. Import your package in the documentation notebook."
   ]
  },
  {
   "cell_type": "code",
   "execution_count": 3,
   "id": "24585890-504e-48d8-a07f-b8990137cf33",
   "metadata": {},
   "outputs": [],
   "source": [
    "import lennardjones"
   ]
  },
  {
   "cell_type": "markdown",
   "id": "d896d034-dbab-4225-b1d5-39e01cbd3beb",
   "metadata": {},
   "source": [
    "### 2. Describe your generative model."
   ]
  },
  {
   "cell_type": "markdown",
   "id": "f0b2cde4-75dd-4e6f-901f-b9c00626eb52",
   "metadata": {},
   "source": [
    "#### We will start with just the Lennard Jones model.\n",
    "\n",
    "The Lennard Jones *potential* has a well known phenominolgical model:\n",
    "\n",
    "$$ U_\\text{LJ} = 4 \\epsilon \\left ( \\frac{\\sigma^{12}}{z^{12}} - \\frac{\\sigma^6}{z^6} \\right ) $$\n",
    "\n",
    "Where $\\epsilon$ is the depth of the well (or 'strength' of the interaction), $\\sigma$ is distance when the potential is 0 (or the 'size' of the interacting particles), and $z$ is the distance between the particles.\n",
    "\n",
    "To compute the force, $F = -\\partial U / \\partial z$, so \n",
    "$$ F_\\text{LJ} = 4 \\epsilon \\left ( \\frac{12\\sigma^{12}}{z^{13}} - \\frac{6\\sigma^6}{z^7} \\right ) $$"
   ]
  },
  {
   "cell_type": "markdown",
   "id": "fa11d17d-1708-4019-bbb7-f1863733c852",
   "metadata": {},
   "source": [
    "The goal of the first task is to fit to the above model, using $\\epsilon$ and $\\sigma$ as parameters. "
   ]
  },
  {
   "cell_type": "markdown",
   "id": "5b0e3934-3380-46ff-9743-f3738640adcc",
   "metadata": {},
   "source": [
    "However, the measured data is frequency shift (df) and must be first coverted to force. This is done using the Sader-Jarvis method, which takes an intergral over the distance data, starting at the closest $z$ position. \n",
    "\n",
    "All parameters in the Sader-Jarvis formula are known experimental parameters. "
   ]
  },
  {
   "cell_type": "markdown",
   "id": "fa7b9acb-4324-4e59-a679-36922b41da79",
   "metadata": {},
   "source": [
    "#### Sader-Jarvis method to convert to force\n",
    "\n",
    "$$ F_\\text{meas} = 2k \\int_z^\\inf \\left ( 1 +  \\frac{a^{1/2}}{8 \\sqrt{\\pi(t-z)}} \\right ) d\\Omega(t) - \\frac{a^{3/2}}{\\sqrt{2(t-z)}} \\frac{d \\Omega(t)}{dt} dt $$\n",
    "\n",
    "where $k$ is the spring constant of the tuning fork, $a$ is the oscillation amplitude, $\\Omega(z) = d\\omega(z)/ \\omega_0 = d\\text{f}(z)/\\text{f}_0$, and $t$ is the integration variable.\n",
    "\n",
    "$k$ and $a$ are experiemental details that are known.\n"
   ]
  },
  {
   "cell_type": "markdown",
   "id": "a4c762ad-1379-44d0-96b9-77076a6c8db0",
   "metadata": {},
   "source": [
    "#### Experimental considerations\n",
    "\n",
    "The raw data is frequency shift df and position of the piezo $z'$. \n",
    "\n",
    "**df**\n",
    "\n",
    "The frequency shift is the measured data and has noise. Based on traces taken far from the sample, the background noise on this measurement is $\\sigma_\\text{df} = 0.5$ Hz. \n",
    "\n",
    "***z'***\n",
    "\n",
    "To keep things simple the first time, we will set the position of the sample $z_0$ equal to 0.5 nm below the lowest $z'$ position. Thus the tip position relative to the sample (i.e. the $z$ in the above equations) becomes $z$ = $z'$ -   $z_\\text{min}$ - 0.5 nm."
   ]
  },
  {
   "cell_type": "markdown",
   "id": "fa761794-dd83-4bb1-9595-2819e10580d3",
   "metadata": {},
   "source": [
    "$k$ = 1800 N/m\n",
    "\n",
    "$a$ = 0.5 nm\n",
    "\n",
    "In all honesty it is quite possible there is a 10 % uncertainty on each of these parameters as well. It may be desirable to include that as a prior and marginalize out the small range.\n",
    "\n",
    "However, again to keep things simple in this first itteration, we will assume the values above are exact. "
   ]
  },
  {
   "cell_type": "markdown",
   "id": "4410b4aa-5461-42ae-bccc-6dbf5e3acb16",
   "metadata": {},
   "source": [
    "Given all of this, there are *no* parameters in the force calculation and so we should simple be able to perform the calculation; however, the uncertainty needs to also be converted from df to force (i.e. $\\sigma_\\text{df} \\rightarrow \\sigma_\\text{force}$ )"
   ]
  },
  {
   "cell_type": "markdown",
   "id": "eddaf487-2f24-4a51-a6ad-f68c8d95f98e",
   "metadata": {},
   "source": [
    "##### Use the notation we introduced in the course to describe your statistical model, which should include the priors\n",
    "\n",
    "I'm a little stuck on this because of the Sader-Jarvis conversion on the y-data. After that however, it would be:\n",
    "\n",
    "$\\epsilon$ ~ Uniform(0,$\\inf$)\n",
    "\n",
    "$\\sigma$ ~ Uniform(0,$\\inf$)\n",
    "\n",
    "$\\mu$ = 4 $\\epsilon$ (12$\\sigma^{12}$/$z^{13}$ - 6$\\sigma^{6}$/$z^{7}$)\n",
    "\n",
    "F ~ normal($\\mu$ = $\\mu$, $\\sigma = \\sigma_\\text{force}$ )"
   ]
  },
  {
   "cell_type": "code",
   "execution_count": null,
   "id": "76da6f4d-47d1-44b8-a551-b248771cc153",
   "metadata": {},
   "outputs": [],
   "source": []
  }
 ],
 "metadata": {
  "kernelspec": {
   "display_name": "Python 3 (ipykernel)",
   "language": "python",
   "name": "python3"
  },
  "language_info": {
   "codemirror_mode": {
    "name": "ipython",
    "version": 3
   },
   "file_extension": ".py",
   "mimetype": "text/x-python",
   "name": "python",
   "nbconvert_exporter": "python",
   "pygments_lexer": "ipython3",
   "version": "3.9.9"
  }
 },
 "nbformat": 4,
 "nbformat_minor": 5
}
