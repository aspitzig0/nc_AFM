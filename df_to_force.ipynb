{
 "cells": [
  {
   "cell_type": "code",
   "execution_count": 1,
   "id": "fdb576d7-43d0-4ec7-88b7-a38127e97f6a",
   "metadata": {},
   "outputs": [],
   "source": [
    "import numpy as np\n",
    "import pandas as pd\n",
    "import ncafm.io as io\n",
    "from pathlib import Path\n",
    "\n",
    "import matplotlib.pyplot as plt"
   ]
  },
  {
   "cell_type": "markdown",
   "id": "a59c5293-91ba-48b0-be7c-69567c963bd1",
   "metadata": {},
   "source": [
    "## Test loading the data"
   ]
  },
  {
   "cell_type": "code",
   "execution_count": 2,
   "id": "25044150-0b20-4707-aa8e-0874a23bee16",
   "metadata": {},
   "outputs": [],
   "source": [
    "additional_path = 'ncafm/example_data'\n",
    "filename = 'all_data_dataframe_237K.csv'\n",
    "\n",
    "path = io.get_example_data_file_path(filename, data_dir = additional_path)\n",
    "\n",
    "z_df_dataframe = io.load_data(path)\n"
   ]
  },
  {
   "cell_type": "code",
   "execution_count": 3,
   "id": "4afff2db-2868-4581-9911-09aac7efd819",
   "metadata": {},
   "outputs": [
    {
     "data": {
      "text/plain": [
       "'z'"
      ]
     },
     "execution_count": 3,
     "metadata": {},
     "output_type": "execute_result"
    }
   ],
   "source": [
    "z_df_dataframe.columns[0]"
   ]
  },
  {
   "cell_type": "code",
   "execution_count": 4,
   "id": "0a7697b6-8e1f-4906-b2db-51e4abe386c6",
   "metadata": {},
   "outputs": [
    {
     "ename": "NameError",
     "evalue": "name 'z_piezo' is not defined",
     "output_type": "error",
     "traceback": [
      "\u001b[1;31m---------------------------------------------------------------------------\u001b[0m",
      "\u001b[1;31mNameError\u001b[0m                                 Traceback (most recent call last)",
      "\u001b[1;32mC:\\Users\\HOUCHE~1\\AppData\\Local\\Temp/ipykernel_2540/1701412531.py\u001b[0m in \u001b[0;36m<module>\u001b[1;34m\u001b[0m\n\u001b[0;32m      3\u001b[0m \u001b[0mf_0\u001b[0m \u001b[1;33m=\u001b[0m \u001b[1;36m19796.5\u001b[0m\u001b[1;33m\u001b[0m\u001b[1;33m\u001b[0m\u001b[0m\n\u001b[0;32m      4\u001b[0m \u001b[1;33m\u001b[0m\u001b[0m\n\u001b[1;32m----> 5\u001b[1;33m \u001b[0mz_real\u001b[0m \u001b[1;33m=\u001b[0m \u001b[0mz_piezo\u001b[0m \u001b[1;33m-\u001b[0m \u001b[0mz_piezo\u001b[0m\u001b[1;33m[\u001b[0m\u001b[1;36m0\u001b[0m\u001b[1;33m]\u001b[0m \u001b[1;33m+\u001b[0m\u001b[1;36m1\u001b[0m\u001b[1;33m*\u001b[0m\u001b[1;36m10\u001b[0m\u001b[1;33m**\u001b[0m\u001b[1;33m(\u001b[0m\u001b[1;33m-\u001b[0m\u001b[1;36m9\u001b[0m\u001b[1;33m)\u001b[0m\u001b[1;33m\u001b[0m\u001b[1;33m\u001b[0m\u001b[0m\n\u001b[0m",
      "\u001b[1;31mNameError\u001b[0m: name 'z_piezo' is not defined"
     ]
    }
   ],
   "source": [
    "a = 0.5*10**-9\n",
    "k = 1800\n",
    "f_0 = 19796.5\n",
    "\n",
    "z_real = z_piezo - z_piezo[0] +1*10**(-9)"
   ]
  },
  {
   "cell_type": "code",
   "execution_count": null,
   "id": "cc614ad4-02e3-460d-947b-7948ac9c88af",
   "metadata": {},
   "outputs": [],
   "source": []
  },
  {
   "cell_type": "code",
   "execution_count": null,
   "id": "2c881172-a2da-44b9-ae60-0e806895f65b",
   "metadata": {},
   "outputs": [],
   "source": [
    "force_0p75 = lj.calculate_force(a,k,f_0, z_real, df_dataframe['0.75'])"
   ]
  },
  {
   "cell_type": "code",
   "execution_count": null,
   "id": "7fbfae8b-994e-4b5d-aa97-6e070b624969",
   "metadata": {},
   "outputs": [],
   "source": [
    "plt.scatter(z_real[:-1]*10**9, lj.calculate_force(a,k,f_0, z_real, df_dataframe['0.75'])*10**9, s= 4, label = '0.75 V')\n",
    "plt.ylabel('force (nN)')\n",
    "plt.xlabel('tip height (nm)');"
   ]
  },
  {
   "cell_type": "code",
   "execution_count": null,
   "id": "3f888798-bc45-4293-a219-31cc3edecb61",
   "metadata": {},
   "outputs": [],
   "source": [
    "plt.scatter(z_real[:-1]*10**9, lj.calculate_force(a,k,f_0, z_real, df_dataframe['0.75'])*10**9, s= 4, label = '0.75 V')\n",
    "\n",
    "plt.scatter(z_real[:-1]*10**9, lj.calculate_force(a,k,f_0, z_real, df_dataframe['6.0'])*10**9, s= 4, label = '6.00 V')\n",
    "\n",
    "plt.scatter(z_real[:-1]*10**9, lj.calculate_force(a,k,f_0, z_real, df_dataframe['10.0'])*10**9, s= 4, label = '10.00 V')\n",
    "\n",
    "plt.ylabel('force (nN)')\n",
    "plt.xlabel('tip height (nm)')\n",
    "plt.legend();"
   ]
  },
  {
   "cell_type": "code",
   "execution_count": null,
   "id": "c71e6880-b059-4a4c-ba12-226215b75945",
   "metadata": {},
   "outputs": [],
   "source": [
    "plt.scatter(z_real*10**9, df_dataframe['0.75'], s= 4, label = '0.75 V')\n",
    "\n",
    "plt.scatter(z_real*10**9, df_dataframe['6.0'], s= 4, label = '6.00 V')\n",
    "\n",
    "plt.scatter(z_real*10**9, df_dataframe['10.0'], s= 4, label = '10.00 V')\n",
    "\n",
    "plt.ylabel('frequency shift (Hz)')\n",
    "plt.xlabel('tip height (nm)')\n",
    "\n",
    "plt.legend();"
   ]
  },
  {
   "cell_type": "code",
   "execution_count": null,
   "id": "7cab289c-c07f-4fe1-bf61-bc9b998fe2eb",
   "metadata": {},
   "outputs": [],
   "source": [
    "upper = lj.calculate_force(a,k,f_0, z_real, df_dataframe['0.75']+0.5)*10**9\n",
    "lower = lj.calculate_force(a,k,f_0, z_real, df_dataframe['0.75']-0.5)*10**9"
   ]
  },
  {
   "cell_type": "code",
   "execution_count": null,
   "id": "6655bce1-8eb4-4f43-a133-d60219de6858",
   "metadata": {},
   "outputs": [],
   "source": [
    "error = (upper-lower)/2"
   ]
  },
  {
   "cell_type": "code",
   "execution_count": null,
   "id": "a18c74da-7739-4665-9392-79540c94e95c",
   "metadata": {},
   "outputs": [],
   "source": [
    "plt.plot(error)"
   ]
  },
  {
   "cell_type": "code",
   "execution_count": null,
   "id": "b582f82a-c49c-488c-b2b5-987677b8c7a9",
   "metadata": {},
   "outputs": [],
   "source": []
  }
 ],
 "metadata": {
  "kernelspec": {
   "display_name": "Python 3 (ipykernel)",
   "language": "python",
   "name": "python3"
  },
  "language_info": {
   "codemirror_mode": {
    "name": "ipython",
    "version": 3
   },
   "file_extension": ".py",
   "mimetype": "text/x-python",
   "name": "python",
   "nbconvert_exporter": "python",
   "pygments_lexer": "ipython3",
   "version": "3.9.9"
  }
 },
 "nbformat": 4,
 "nbformat_minor": 5
}
