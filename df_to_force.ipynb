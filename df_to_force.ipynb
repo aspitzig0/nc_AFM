{
 "cells": [
  {
   "cell_type": "code",
   "execution_count": 1,
   "id": "fdb576d7-43d0-4ec7-88b7-a38127e97f6a",
   "metadata": {},
   "outputs": [],
   "source": [
    "import numpy as np\n",
    "import pandas as pd\n",
    "import ncafm.io as io\n",
    "import ncafm.functions as fcn\n",
    "from pathlib import Path\n",
    "\n",
    "import matplotlib.pyplot as plt"
   ]
  },
  {
   "cell_type": "markdown",
   "id": "a59c5293-91ba-48b0-be7c-69567c963bd1",
   "metadata": {},
   "source": [
    "## Test loading the data"
   ]
  },
  {
   "cell_type": "code",
   "execution_count": 2,
   "id": "25044150-0b20-4707-aa8e-0874a23bee16",
   "metadata": {},
   "outputs": [],
   "source": [
    "additional_path = 'ncafm/example_data'\n",
    "filename = 'all_data_dataframe_237K.csv'\n",
    "\n",
    "path = io.get_example_data_file_path(filename, data_dir = additional_path)\n",
    "\n",
    "z_df_dataframe = io.load_data(path)\n"
   ]
  },
  {
   "cell_type": "code",
   "execution_count": 16,
   "id": "4afff2db-2868-4581-9911-09aac7efd819",
   "metadata": {},
   "outputs": [
    {
     "data": {
      "text/html": [
       "<div>\n",
       "<style scoped>\n",
       "    .dataframe tbody tr th:only-of-type {\n",
       "        vertical-align: middle;\n",
       "    }\n",
       "\n",
       "    .dataframe tbody tr th {\n",
       "        vertical-align: top;\n",
       "    }\n",
       "\n",
       "    .dataframe thead th {\n",
       "        text-align: right;\n",
       "    }\n",
       "</style>\n",
       "<table border=\"1\" class=\"dataframe\">\n",
       "  <thead>\n",
       "    <tr style=\"text-align: right;\">\n",
       "      <th></th>\n",
       "      <th>z</th>\n",
       "      <th>-0.0</th>\n",
       "      <th>0.75</th>\n",
       "      <th>2.0</th>\n",
       "      <th>4.0</th>\n",
       "      <th>6.0</th>\n",
       "      <th>8.0</th>\n",
       "      <th>10.0</th>\n",
       "    </tr>\n",
       "  </thead>\n",
       "  <tbody>\n",
       "    <tr>\n",
       "      <th>0</th>\n",
       "      <td>-3.182825e-08</td>\n",
       "      <td>51.750179</td>\n",
       "      <td>51.581310</td>\n",
       "      <td>51.130814</td>\n",
       "      <td>49.505810</td>\n",
       "      <td>46.584351</td>\n",
       "      <td>41.749966</td>\n",
       "      <td>33.953133</td>\n",
       "    </tr>\n",
       "    <tr>\n",
       "      <th>1</th>\n",
       "      <td>-3.162825e-08</td>\n",
       "      <td>43.953426</td>\n",
       "      <td>43.928509</td>\n",
       "      <td>43.816441</td>\n",
       "      <td>42.090847</td>\n",
       "      <td>39.372910</td>\n",
       "      <td>34.885902</td>\n",
       "      <td>27.489771</td>\n",
       "    </tr>\n",
       "    <tr>\n",
       "      <th>2</th>\n",
       "      <td>-3.142825e-08</td>\n",
       "      <td>36.527794</td>\n",
       "      <td>36.373009</td>\n",
       "      <td>36.233540</td>\n",
       "      <td>34.562767</td>\n",
       "      <td>31.635241</td>\n",
       "      <td>27.508020</td>\n",
       "      <td>20.527580</td>\n",
       "    </tr>\n",
       "    <tr>\n",
       "      <th>3</th>\n",
       "      <td>-3.122825e-08</td>\n",
       "      <td>28.104694</td>\n",
       "      <td>28.243338</td>\n",
       "      <td>28.223377</td>\n",
       "      <td>26.402557</td>\n",
       "      <td>23.151896</td>\n",
       "      <td>18.147322</td>\n",
       "      <td>11.085422</td>\n",
       "    </tr>\n",
       "    <tr>\n",
       "      <th>4</th>\n",
       "      <td>-3.102825e-08</td>\n",
       "      <td>19.526001</td>\n",
       "      <td>19.727394</td>\n",
       "      <td>19.668325</td>\n",
       "      <td>17.515757</td>\n",
       "      <td>13.588511</td>\n",
       "      <td>7.788128</td>\n",
       "      <td>-0.174825</td>\n",
       "    </tr>\n",
       "    <tr>\n",
       "      <th>...</th>\n",
       "      <td>...</td>\n",
       "      <td>...</td>\n",
       "      <td>...</td>\n",
       "      <td>...</td>\n",
       "      <td>...</td>\n",
       "      <td>...</td>\n",
       "      <td>...</td>\n",
       "      <td>...</td>\n",
       "    </tr>\n",
       "    <tr>\n",
       "      <th>108</th>\n",
       "      <td>-1.022831e-08</td>\n",
       "      <td>-0.629711</td>\n",
       "      <td>-0.526609</td>\n",
       "      <td>-0.487231</td>\n",
       "      <td>-1.042318</td>\n",
       "      <td>-2.116411</td>\n",
       "      <td>-3.999531</td>\n",
       "      <td>-6.450719</td>\n",
       "    </tr>\n",
       "    <tr>\n",
       "      <th>109</th>\n",
       "      <td>-1.002831e-08</td>\n",
       "      <td>-0.676826</td>\n",
       "      <td>-0.554232</td>\n",
       "      <td>-0.562571</td>\n",
       "      <td>-0.982578</td>\n",
       "      <td>-2.094154</td>\n",
       "      <td>-4.020424</td>\n",
       "      <td>-6.403704</td>\n",
       "    </tr>\n",
       "    <tr>\n",
       "      <th>110</th>\n",
       "      <td>-9.828311e-09</td>\n",
       "      <td>-0.634787</td>\n",
       "      <td>-0.559015</td>\n",
       "      <td>-0.483544</td>\n",
       "      <td>-1.015127</td>\n",
       "      <td>-2.147274</td>\n",
       "      <td>-3.872620</td>\n",
       "      <td>-6.350922</td>\n",
       "    </tr>\n",
       "    <tr>\n",
       "      <th>111</th>\n",
       "      <td>-9.628311e-09</td>\n",
       "      <td>-0.721081</td>\n",
       "      <td>-0.548445</td>\n",
       "      <td>-0.548138</td>\n",
       "      <td>-1.033069</td>\n",
       "      <td>-2.181116</td>\n",
       "      <td>-3.927863</td>\n",
       "      <td>-6.343535</td>\n",
       "    </tr>\n",
       "    <tr>\n",
       "      <th>112</th>\n",
       "      <td>-9.428311e-09</td>\n",
       "      <td>-0.651536</td>\n",
       "      <td>-0.575790</td>\n",
       "      <td>-0.601580</td>\n",
       "      <td>-1.016272</td>\n",
       "      <td>-2.215998</td>\n",
       "      <td>-3.955481</td>\n",
       "      <td>-6.417713</td>\n",
       "    </tr>\n",
       "  </tbody>\n",
       "</table>\n",
       "<p>113 rows × 8 columns</p>\n",
       "</div>"
      ],
      "text/plain": [
       "                z       -0.0       0.75        2.0        4.0        6.0  \\\n",
       "0   -3.182825e-08  51.750179  51.581310  51.130814  49.505810  46.584351   \n",
       "1   -3.162825e-08  43.953426  43.928509  43.816441  42.090847  39.372910   \n",
       "2   -3.142825e-08  36.527794  36.373009  36.233540  34.562767  31.635241   \n",
       "3   -3.122825e-08  28.104694  28.243338  28.223377  26.402557  23.151896   \n",
       "4   -3.102825e-08  19.526001  19.727394  19.668325  17.515757  13.588511   \n",
       "..            ...        ...        ...        ...        ...        ...   \n",
       "108 -1.022831e-08  -0.629711  -0.526609  -0.487231  -1.042318  -2.116411   \n",
       "109 -1.002831e-08  -0.676826  -0.554232  -0.562571  -0.982578  -2.094154   \n",
       "110 -9.828311e-09  -0.634787  -0.559015  -0.483544  -1.015127  -2.147274   \n",
       "111 -9.628311e-09  -0.721081  -0.548445  -0.548138  -1.033069  -2.181116   \n",
       "112 -9.428311e-09  -0.651536  -0.575790  -0.601580  -1.016272  -2.215998   \n",
       "\n",
       "           8.0       10.0  \n",
       "0    41.749966  33.953133  \n",
       "1    34.885902  27.489771  \n",
       "2    27.508020  20.527580  \n",
       "3    18.147322  11.085422  \n",
       "4     7.788128  -0.174825  \n",
       "..         ...        ...  \n",
       "108  -3.999531  -6.450719  \n",
       "109  -4.020424  -6.403704  \n",
       "110  -3.872620  -6.350922  \n",
       "111  -3.927863  -6.343535  \n",
       "112  -3.955481  -6.417713  \n",
       "\n",
       "[113 rows x 8 columns]"
      ]
     },
     "execution_count": 16,
     "metadata": {},
     "output_type": "execute_result"
    }
   ],
   "source": [
    "z_df_dataframe"
   ]
  },
  {
   "cell_type": "code",
   "execution_count": 4,
   "id": "0a7697b6-8e1f-4906-b2db-51e4abe386c6",
   "metadata": {},
   "outputs": [],
   "source": [
    "#define experimental parameters\n",
    "\n",
    "#amplitude, set to 0.5 nm\n",
    "a = 0.5*10**-9\n",
    "\n",
    "#spring constant, 1800 N/m\n",
    "k = 1800\n",
    "\n",
    "#central frequency Hz\n",
    "f_0 = 19796.5"
   ]
  },
  {
   "cell_type": "markdown",
   "id": "f516067f-8941-4697-aa64-6943ecaa02bf",
   "metadata": {},
   "source": [
    "### Dumnmy data"
   ]
  },
  {
   "cell_type": "code",
   "execution_count": 5,
   "id": "eeeb9747-a43a-426b-ba07-000fd6c8ecad",
   "metadata": {},
   "outputs": [],
   "source": [
    "dummy_a = 1*10**-9\n",
    "dummy_k = 2000 \n",
    "dummy_f0 = 20*10**3\n",
    "dummy_z = np.arange(1, 21, 0.5)*10**-9\n",
    "\n",
    "const1 = 10**-7\n",
    "const2 = 1.1*10**-9\n",
    "\n",
    "dummy_df = const1*((const2)**2/dummy_z**3 - (const2)**1/dummy_z**2)"
   ]
  },
  {
   "cell_type": "code",
   "execution_count": 6,
   "id": "5039988e-6cc8-439a-bef3-b9f497d2e995",
   "metadata": {},
   "outputs": [
    {
     "data": {
      "text/plain": [
       "<matplotlib.collections.PathCollection at 0x1107eebe0>"
      ]
     },
     "execution_count": 6,
     "metadata": {},
     "output_type": "execute_result"
    },
    {
     "data": {
      "image/png": "[encoded data removed]",
      "text/plain": [
       "<Figure size 432x288 with 1 Axes>"
      ]
     },
     "metadata": {
      "needs_background": "light"
     },
     "output_type": "display_data"
    }
   ],
   "source": [
    "plt.scatter(dummy_z, dummy_df)"
   ]
  },
  {
   "cell_type": "code",
   "execution_count": 13,
   "id": "cc614ad4-02e3-460d-947b-7948ac9c88af",
   "metadata": {},
   "outputs": [
    {
     "data": {
      "text/plain": [
       "array([ 2.34538854e-09, -5.37371270e-09, -9.27771448e-09, -8.10569783e-09,\n",
       "       -6.74863638e-09, -5.64878420e-09, -4.79066963e-09, -4.11565349e-09,\n",
       "       -3.57531728e-09, -3.13483791e-09, -2.76968791e-09, -2.46244975e-09,\n",
       "       -2.20054724e-09, -1.97472910e-09, -1.77806415e-09, -1.60526964e-09,\n",
       "       -1.45225516e-09, -1.31580770e-09, -1.19337020e-09, -1.08288335e-09,\n",
       "       -9.82670559e-10, -8.91353297e-10, -8.07787716e-10, -7.31016712e-10,\n",
       "       -6.60233167e-10, -5.94751463e-10, -5.33985146e-10, -4.77429225e-10,\n",
       "       -4.24645980e-10, -3.75253415e-10, -3.28915701e-10, -2.85335035e-10,\n",
       "       -2.44244366e-10, -2.05400341e-10, -1.68575378e-10, -1.33546576e-10,\n",
       "       -1.00075063e-10, -6.78519661e-11, -3.62234412e-11])"
      ]
     },
     "execution_count": 13,
     "metadata": {},
     "output_type": "execute_result"
    }
   ],
   "source": [
    "fcn.df2force(dummy_z, dummy_df, dummy_a, dummy_k, dummy_f0)"
   ]
  },
  {
   "cell_type": "code",
   "execution_count": 15,
   "id": "b582f82a-c49c-488c-b2b5-987677b8c7a9",
   "metadata": {},
   "outputs": [
    {
     "data": {
      "text/plain": [
       "<matplotlib.collections.PathCollection at 0x141d1d790>"
      ]
     },
     "execution_count": 15,
     "metadata": {},
     "output_type": "execute_result"
    },
    {
     "data": {
      "image/png": "[encoded data removed]",
      "text/plain": [
       "<Figure size 432x288 with 1 Axes>"
      ]
     },
     "metadata": {
      "needs_background": "light"
     },
     "output_type": "display_data"
    }
   ],
   "source": [
    "plt.scatter(dummy_z[:-1], fcn.df2force(dummy_z, dummy_df, dummy_a, dummy_k, dummy_f0))"
   ]
  },
  {
   "cell_type": "markdown",
   "id": "3131eb21-e24a-482a-953e-3e2868684f0a",
   "metadata": {},
   "source": [
    "### Real data"
   ]
  },
  {
   "cell_type": "code",
   "execution_count": 17,
   "id": "d9eb424b-4f52-4cf5-b03f-f59c6277154c",
   "metadata": {},
   "outputs": [
    {
     "data": {
      "text/plain": [
       "[<matplotlib.lines.Line2D at 0x141cf7310>]"
      ]
     },
     "execution_count": 17,
     "metadata": {},
     "output_type": "execute_result"
    },
    {
     "data": {
      "image/png": "[encoded data removed]",
      "text/plain": [
       "<Figure size 432x288 with 1 Axes>"
      ]
     },
     "metadata": {
      "needs_background": "light"
     },
     "output_type": "display_data"
    }
   ],
   "source": [
    "plt.plot(z_df_dataframe['z'], z_df_dataframe['0.75'])"
   ]
  },
  {
   "cell_type": "code",
   "execution_count": 18,
   "id": "5d2e060f-4810-4090-b7ca-5da2f57beeaf",
   "metadata": {},
   "outputs": [
    {
     "data": {
      "text/plain": [
       "<matplotlib.collections.PathCollection at 0x1447e4760>"
      ]
     },
     "execution_count": 18,
     "metadata": {},
     "output_type": "execute_result"
    },
    {
     "data": {
      "image/png": "[encoded data removed]",
      "text/plain": [
       "<Figure size 432x288 with 1 Axes>"
      ]
     },
     "metadata": {
      "needs_background": "light"
     },
     "output_type": "display_data"
    }
   ],
   "source": [
    "plt.scatter(z_df_dataframe['z'][:-1], fcn.df2force(z_df_dataframe['z'], z_df_dataframe['0.75'], a, k, f_0))"
   ]
  },
  {
   "cell_type": "code",
   "execution_count": null,
   "id": "67791e0c-bae9-4fd7-a0a0-9c328b4b9a37",
   "metadata": {},
   "outputs": [],
   "source": []
  }
 ],
 "metadata": {
  "kernelspec": {
   "display_name": "Python 3 (ipykernel)",
   "language": "python",
   "name": "python3"
  },
  "language_info": {
   "codemirror_mode": {
    "name": "ipython",
    "version": 3
   },
   "file_extension": ".py",
   "mimetype": "text/x-python",
   "name": "python",
   "nbconvert_exporter": "python",
   "pygments_lexer": "ipython3",
   "version": "3.9.9"
  }
 },
 "nbformat": 4,
 "nbformat_minor": 5
}
