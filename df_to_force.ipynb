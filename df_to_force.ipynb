{
 "cells": [
  {
   "cell_type": "code",
   "execution_count": 18,
   "id": "fdb576d7-43d0-4ec7-88b7-a38127e97f6a",
   "metadata": {},
   "outputs": [],
   "source": [
    "import numpy as np\n",
    "import pandas as pd\n",
    "import lennardjones as lj\n",
    "\n",
    "import scipy.stats\n",
    "import matplotlib.pyplot as plt"
   ]
  },
  {
   "cell_type": "markdown",
   "id": "65aa24c3-8fe4-4b72-9482-9c4b78fdef8d",
   "metadata": {},
   "source": [
    "## Import the data"
   ]
  },
  {
   "cell_type": "code",
   "execution_count": 101,
   "id": "25044150-0b20-4707-aa8e-0874a23bee16",
   "metadata": {},
   "outputs": [],
   "source": [
    "df_dataframe = pd.read_csv('/Users/alysonspitzig/Documents/GitHub/nc_AFM/lennardjones/example_data/df_dataframe_237K.csv')\n",
    "\n",
    "z_piezo = np.genfromtxt('/Users/alysonspitzig/Documents/GitHub/nc_AFM/lennardjones/example_data/z_piezo.csv')\n"
   ]
  },
  {
   "cell_type": "code",
   "execution_count": 102,
   "id": "0a7697b6-8e1f-4906-b2db-51e4abe386c6",
   "metadata": {},
   "outputs": [],
   "source": [
    "a = 0.5*10**-9\n",
    "k = 1800\n",
    "f_0 = 19796.5\n",
    "noise = 0.5 #Hz , 1 Hz peak to peak\n",
    "\n",
    "z_real = z_piezo - z_piezo[0] +1*10**(-9)"
   ]
  },
  {
   "cell_type": "code",
   "execution_count": 103,
   "id": "cc614ad4-02e3-460d-947b-7948ac9c88af",
   "metadata": {},
   "outputs": [],
   "source": [
    "def calculate_force(a,k,f_0, z, df_data):\n",
    "    \n",
    "    '''\n",
    "    calculates force from given frequency shift data and corresponding z positions.\n",
    "    Notice, the absolute value of the force does not depend on the absolute value of the z position,\n",
    "    just the difference between sequential z positions. Therefore the z input can be the 'piezo' z position;\n",
    "    it doens't have to be relative to the sample.\n",
    "    \n",
    "    Inputs:\n",
    "    -------\n",
    "    a: float. amplitude of oscillation in units of m\n",
    "    k: spring constant of the AFM tip. in untis of N/m\n",
    "    f_0: reasonant frequency of the AFM tip. in Hz.\n",
    "    z: ndarray of the height of the tip. It does not need to be height with respect to sample,\n",
    "        but the differences between heights need to be accurate.\n",
    "    df_data: frequency shift data at corresponding z positions. In units of Hz. \n",
    "    \n",
    "    Returns:\n",
    "    --------\n",
    "    force_array: ndarray (of size z) of the corresponding force, calculated using the method outlined\n",
    "        by Sader and Jarvis (2004) DOI: 10.1063/1.1667267 Eg (9)\n",
    "    \n",
    "    '''\n",
    "    \n",
    "    root_amplitude = np.sqrt(a)\n",
    "\n",
    "    const_2 = root_amplitude / (8*np.sqrt(np.pi)) #units sqrt m\n",
    "    const_3 = root_amplitude**3 / np.sqrt(2)      #units m * sqrt m\n",
    "\n",
    "    xdata = z\n",
    "    ydata = df_data\n",
    "    \n",
    "    new_size = len(z) -1\n",
    "\n",
    "    #creat empty array to store the calculation in\n",
    "    force_array = np.zeros([new_size])\n",
    "    \n",
    "    Omega = ydata / f_0\n",
    "    Omegadz = np.gradient(Omega) / np.gradient(xdata)\n",
    "\n",
    "    first_term = np.zeros([new_size])\n",
    "    second_term = np.zeros([new_size])\n",
    "    third_term = np.zeros([new_size])\n",
    "    correction_term = np.zeros([new_size])\n",
    "\n",
    "    for zi in range(0, new_size):\n",
    "        t = zi+1\n",
    "        root_t_z = np.sqrt((xdata[t:] - xdata[zi]))\n",
    "    \n",
    "        integral_1 = np.trapz((Omega[t:]), x = xdata[t:]) \n",
    "        integral_2 = np.trapz(((const_2 / root_t_z) * Omega[t:]), x = xdata[t:])     \n",
    "        integral_3 = np.trapz(- (const_3 / root_t_z * Omegadz[t:]), x = xdata[t:])\n",
    "        \n",
    "        first_term[zi] = 2 * k * (integral_1)\n",
    "        second_term[zi] = 2 * k * (integral_2)\n",
    "        third_term[zi] = np.real(2 * k * (integral_3))\n",
    "    \n",
    "        # correction terms for t=z from [2] mathematica notebook SJ\n",
    "        corr1 = Omega[zi] * (xdata[t]-xdata[zi])\n",
    "        corr2 = 2 * const_2 * Omega[zi] * np.sqrt(xdata[t] - xdata[zi])\n",
    "        corr3 = -2 * const_3 * Omegadz[zi] * np.sqrt(xdata[t] - xdata[zi])\n",
    "        correction_term[zi] = 2 * k * (corr1 + corr2 + corr3)\n",
    "    \n",
    "    force_array = first_term+second_term+third_term+correction_term\n",
    "    \n",
    "    return force_array"
   ]
  },
  {
   "cell_type": "code",
   "execution_count": 105,
   "id": "2c881172-a2da-44b9-ae60-0e806895f65b",
   "metadata": {},
   "outputs": [],
   "source": [
    "force_0p75 = calculate_force(a,k,f_0, z_real, df_dataframe['0.75'])"
   ]
  },
  {
   "cell_type": "code",
   "execution_count": 106,
   "id": "7fbfae8b-994e-4b5d-aa97-6e070b624969",
   "metadata": {},
   "outputs": [
    {
     "data": {
      "image/png": "[encoded data removed]",
      "text/plain": [
       "<Figure size 432x288 with 1 Axes>"
      ]
     },
     "metadata": {
      "needs_background": "light"
     },
     "output_type": "display_data"
    }
   ],
   "source": [
    "plt.scatter(z_real[:-1]*10**9, calculate_force(a,k,f_0, z_real, df_dataframe['0.75'])*10**9, s= 4, label = '0.75 V')\n",
    "plt.ylabel('force (nN)')\n",
    "plt.xlabel('tip height (nm)');"
   ]
  },
  {
   "cell_type": "code",
   "execution_count": 108,
   "id": "3f888798-bc45-4293-a219-31cc3edecb61",
   "metadata": {},
   "outputs": [
    {
     "data": {
      "image/png": "[encoded data removed]",
      "text/plain": [
       "<Figure size 432x288 with 1 Axes>"
      ]
     },
     "metadata": {
      "needs_background": "light"
     },
     "output_type": "display_data"
    }
   ],
   "source": [
    "plt.scatter(z_real[:-1]*10**9, calculate_force(a,k,f_0, z_real, df_dataframe['0.75'])*10**9, s= 4, label = '0.75 V')\n",
    "\n",
    "plt.scatter(z_real[:-1]*10**9, calculate_force(a,k,f_0, z_real, df_dataframe['6.0'])*10**9, s= 4, label = '6.00 V')\n",
    "\n",
    "plt.scatter(z_real[:-1]*10**9, calculate_force(a,k,f_0, z_real, df_dataframe['10.0'])*10**9, s= 4, label = '10.00 V')\n",
    "\n",
    "plt.ylabel('force (nN)')\n",
    "plt.xlabel('tip height (nm)')\n",
    "plt.legend();"
   ]
  },
  {
   "cell_type": "code",
   "execution_count": 109,
   "id": "c71e6880-b059-4a4c-ba12-226215b75945",
   "metadata": {},
   "outputs": [
    {
     "data": {
      "image/png": "[encoded data removed]",
      "text/plain": [
       "<Figure size 432x288 with 1 Axes>"
      ]
     },
     "metadata": {
      "needs_background": "light"
     },
     "output_type": "display_data"
    }
   ],
   "source": [
    "plt.scatter(z_real*10**9, df_dataframe['0.75'], s= 4, label = '0.75 V')\n",
    "\n",
    "plt.scatter(z_real*10**9, df_dataframe['6.0'], s= 4, label = '6.00 V')\n",
    "\n",
    "plt.scatter(z_real*10**9, df_dataframe['10.0'], s= 4, label = '10.00 V')\n",
    "\n",
    "plt.ylabel('frequency shift (Hz)')\n",
    "plt.xlabel('tip height (nm)')\n",
    "\n",
    "plt.legend();"
   ]
  },
  {
   "cell_type": "code",
   "execution_count": 110,
   "id": "7cab289c-c07f-4fe1-bf61-bc9b998fe2eb",
   "metadata": {},
   "outputs": [],
   "source": [
    "upper = calculate_force(a,k,f_0, z_real, df_dataframe['0.75']+0.2)*10**9\n",
    "lower = calculate_force(a,k,f_0, z_real, df_dataframe['0.75']-0.2)*10**9"
   ]
  },
  {
   "cell_type": "code",
   "execution_count": 111,
   "id": "6655bce1-8eb4-4f43-a133-d60219de6858",
   "metadata": {},
   "outputs": [],
   "source": [
    "error = (upper-lower)/2"
   ]
  },
  {
   "cell_type": "code",
   "execution_count": 112,
   "id": "a18c74da-7739-4665-9392-79540c94e95c",
   "metadata": {},
   "outputs": [
    {
     "data": {
      "text/plain": [
       "[<matplotlib.lines.Line2D at 0x10f719df0>]"
      ]
     },
     "execution_count": 112,
     "metadata": {},
     "output_type": "execute_result"
    },
    {
     "data": {
      "image/png": "[encoded data removed]",
      "text/plain": [
       "<Figure size 432x288 with 1 Axes>"
      ]
     },
     "metadata": {
      "needs_background": "light"
     },
     "output_type": "display_data"
    }
   ],
   "source": [
    "plt.plot(error)"
   ]
  },
  {
   "cell_type": "markdown",
   "id": "c8688fcb-3649-455e-b89a-c49aed588aea",
   "metadata": {},
   "source": [
    "## Generate some time trace data to simulate the background noise"
   ]
  },
  {
   "cell_type": "markdown",
   "id": "cd9798e9-84c2-46dd-bf8c-7d051427d525",
   "metadata": {},
   "source": [
    "The peak to peak noise of the tip is typically ~ 1 Hz. However, this noise is on the time scale of the reasonant frequency ($f_0$).\n",
    "\n",
    "The measurement itself occurs on the scale of 0.0125 s. The data is collected via a bias sweep ranging from -10 to 10 V in approximately 10 s. One of such data points (at 0.75 V for example) is taken to be a part of the above trace. Therefore, the time average for one data point is 10s/801 ~ 0.0125 s per data point."
   ]
  },
  {
   "cell_type": "code",
   "execution_count": 113,
   "id": "d0600b96-02da-4a06-9344-2236030cc001",
   "metadata": {},
   "outputs": [],
   "source": [
    "noise = 0.5"
   ]
  },
  {
   "cell_type": "code",
   "execution_count": 114,
   "id": "61eb3f70-6147-4a8f-8f10-e767e6a60aa0",
   "metadata": {},
   "outputs": [],
   "source": [
    "test_time = np.arange(0,1+1/f_0,1/f_0)\n",
    "\n",
    "test_noise = scipy.stats.norm.rvs(loc=0, scale = noise, size = len(test_time))"
   ]
  },
  {
   "cell_type": "code",
   "execution_count": 115,
   "id": "9a99c317-8af0-402e-a783-643015b318cc",
   "metadata": {},
   "outputs": [
    {
     "data": {
      "text/plain": [
       "Text(0.5, 0, 'time(s)')"
      ]
     },
     "execution_count": 115,
     "metadata": {},
     "output_type": "execute_result"
    },
    {
     "data": {
      "image/png": "[encoded data removed]",
      "text/plain": [
       "<Figure size 432x288 with 1 Axes>"
      ]
     },
     "metadata": {
      "needs_background": "light"
     },
     "output_type": "display_data"
    }
   ],
   "source": [
    "plt.plot(test_time, test_noise)\n",
    "\n",
    "plt.ylabel('frequency shift (Hz)')\n",
    "plt.xlabel('time(s)')"
   ]
  },
  {
   "cell_type": "markdown",
   "id": "894c4ee3-a55d-4e0d-899b-2b21998192bd",
   "metadata": {},
   "source": [
    "That is actaully ... quite similar to the noise we see.\n",
    "\n",
    "Now what noise do we see when we average over 0.0125 s? 0.125 = 1.25e-2"
   ]
  },
  {
   "cell_type": "code",
   "execution_count": 116,
   "id": "4b2cfe9d-e8d8-4826-b958-ff4bec5fec9e",
   "metadata": {},
   "outputs": [
    {
     "data": {
      "text/plain": [
       "(19798,)"
      ]
     },
     "execution_count": 116,
     "metadata": {},
     "output_type": "execute_result"
    }
   ],
   "source": [
    "np.shape(test_time)"
   ]
  },
  {
   "cell_type": "code",
   "execution_count": 117,
   "id": "918a2412-3a1e-4d08-8630-8cc1344b5154",
   "metadata": {},
   "outputs": [
    {
     "data": {
      "text/plain": [
       "(80,)"
      ]
     },
     "execution_count": 117,
     "metadata": {},
     "output_type": "execute_result"
    }
   ],
   "source": [
    "np.shape(np.arange(0,1,0.0125))"
   ]
  },
  {
   "cell_type": "code",
   "execution_count": 126,
   "id": "1a474113-b794-4f79-9851-c2023cc14007",
   "metadata": {},
   "outputs": [
    {
     "name": "stdout",
     "output_type": "stream",
     "text": [
      "247.5 , 495.0\n"
     ]
    }
   ],
   "source": [
    "print(19800/80, ',', 19800/80*2)"
   ]
  },
  {
   "cell_type": "markdown",
   "id": "042875e4-ea2b-4dd1-b1fd-7905f565116e",
   "metadata": {},
   "source": [
    "~247.5 indices to average over for a 0.0125s average. Or ~495 indices for a 0.025s average, then divide by two. "
   ]
  },
  {
   "cell_type": "code",
   "execution_count": 127,
   "id": "3cbed671-9072-462a-991f-5ac77e2c6e9f",
   "metadata": {},
   "outputs": [],
   "source": [
    "window_to_average_over = np.ones([495])"
   ]
  },
  {
   "cell_type": "code",
   "execution_count": 130,
   "id": "b4aad581-e2d3-42f6-aeaa-96a8c078e52d",
   "metadata": {},
   "outputs": [],
   "source": [
    "noise_averaged = np.convolve(np.abs(test_noise), window_to_average_over, 'valid') / 495 /2"
   ]
  },
  {
   "cell_type": "code",
   "execution_count": 131,
   "id": "029ae9a0-9ebf-45c6-bef5-50da4ff9edd2",
   "metadata": {},
   "outputs": [
    {
     "data": {
      "text/plain": [
       "0.19981131603695393"
      ]
     },
     "execution_count": 131,
     "metadata": {},
     "output_type": "execute_result"
    }
   ],
   "source": [
    "np.mean(noise_averaged)"
   ]
  },
  {
   "cell_type": "code",
   "execution_count": null,
   "id": "00414729-fe60-48b2-8644-8b29518def55",
   "metadata": {},
   "outputs": [],
   "source": []
  }
 ],
 "metadata": {
  "kernelspec": {
   "display_name": "Python 3 (ipykernel)",
   "language": "python",
   "name": "python3"
  },
  "language_info": {
   "codemirror_mode": {
    "name": "ipython",
    "version": 3
   },
   "file_extension": ".py",
   "mimetype": "text/x-python",
   "name": "python",
   "nbconvert_exporter": "python",
   "pygments_lexer": "ipython3",
   "version": "3.9.9"
  }
 },
 "nbformat": 4,
 "nbformat_minor": 5
}
