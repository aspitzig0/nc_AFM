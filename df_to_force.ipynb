{
 "cells": [
  {
   "cell_type": "code",
   "execution_count": 59,
   "id": "fdb576d7-43d0-4ec7-88b7-a38127e97f6a",
   "metadata": {},
   "outputs": [],
   "source": [
    "import numpy as np\n",
    "import pandas as pd\n",
    "import ncafm.io as io\n",
    "import ncafm.functions as fcn\n",
    "from pathlib import Path\n",
    "\n",
    "import matplotlib.pyplot as plt"
   ]
  },
  {
   "cell_type": "markdown",
   "id": "a59c5293-91ba-48b0-be7c-69567c963bd1",
   "metadata": {},
   "source": [
    "## Test loading the data"
   ]
  },
  {
   "cell_type": "code",
   "execution_count": 2,
   "id": "25044150-0b20-4707-aa8e-0874a23bee16",
   "metadata": {},
   "outputs": [],
   "source": [
    "additional_path = 'ncafm/example_data'\n",
    "filename = 'all_data_dataframe_237K.csv'\n",
    "\n",
    "path = io.get_example_data_file_path(filename, data_dir = additional_path)\n",
    "\n",
    "z_df_dataframe = io.load_data(path)\n"
   ]
  },
  {
   "cell_type": "code",
   "execution_count": 3,
   "id": "4afff2db-2868-4581-9911-09aac7efd819",
   "metadata": {},
   "outputs": [
    {
     "data": {
      "text/plain": [
       "'z'"
      ]
     },
     "execution_count": 3,
     "metadata": {},
     "output_type": "execute_result"
    }
   ],
   "source": [
    "z_df_dataframe.columns[0]"
   ]
  },
  {
   "cell_type": "code",
   "execution_count": 3,
   "id": "0a7697b6-8e1f-4906-b2db-51e4abe386c6",
   "metadata": {},
   "outputs": [],
   "source": [
    "a = 0.5*10**-9\n",
    "k = 1800\n",
    "f_0 = 19796.5\n",
    "\n",
    "z_real = z_piezo - z_piezo[0] +1*10**(-9)"
   ]
  },
  {
   "cell_type": "code",
   "execution_count": null,
   "id": "edb6fbf8-d748-4d03-a3ca-32080de6ca8d",
   "metadata": {},
   "outputs": [],
   "source": []
  },
  {
   "cell_type": "code",
   "execution_count": 63,
   "id": "eeeb9747-a43a-426b-ba07-000fd6c8ecad",
   "metadata": {},
   "outputs": [],
   "source": [
    "dummy_a = 1*10**-9\n",
    "dummy_k = 2000 \n",
    "dummy_f0 = 20*10**3\n",
    "dummy_z = np.arange(1, 21, 0.5)*10**-9\n",
    "\n",
    "const1 = 10**-7\n",
    "const2 = 1.1*10**-9\n",
    "\n",
    "dummy_df = const1*((const2)**2/dummy_z**3 - (const2)**1/dummy_z**2)"
   ]
  },
  {
   "cell_type": "code",
   "execution_count": 56,
   "id": "5039988e-6cc8-439a-bef3-b9f497d2e995",
   "metadata": {},
   "outputs": [
    {
     "data": {
      "text/plain": [
       "<matplotlib.collections.PathCollection at 0x10f07e910>"
      ]
     },
     "execution_count": 56,
     "metadata": {},
     "output_type": "execute_result"
    },
    {
     "data": {
      "image/png": "[encoded data removed]",
      "text/plain": [
       "<Figure size 432x288 with 1 Axes>"
      ]
     },
     "metadata": {
      "needs_background": "light"
     },
     "output_type": "display_data"
    }
   ],
   "source": [
    "plt.scatter(dummy_z, dummy_df)"
   ]
  },
  {
   "cell_type": "code",
   "execution_count": 64,
   "id": "cc614ad4-02e3-460d-947b-7948ac9c88af",
   "metadata": {},
   "outputs": [
    {
     "data": {
      "text/plain": [
       "array([ 2.34538854e-09, -5.37371270e-09, -9.27771448e-09, -8.10569783e-09,\n",
       "       -6.74863638e-09, -5.64878420e-09, -4.79066963e-09, -4.11565349e-09,\n",
       "       -3.57531728e-09, -3.13483791e-09, -2.76968791e-09, -2.46244975e-09,\n",
       "       -2.20054724e-09, -1.97472910e-09, -1.77806415e-09, -1.60526964e-09,\n",
       "       -1.45225516e-09, -1.31580770e-09, -1.19337020e-09, -1.08288335e-09,\n",
       "       -9.82670559e-10, -8.91353297e-10, -8.07787716e-10, -7.31016712e-10,\n",
       "       -6.60233167e-10, -5.94751463e-10, -5.33985146e-10, -4.77429225e-10,\n",
       "       -4.24645980e-10, -3.75253415e-10, -3.28915701e-10, -2.85335035e-10,\n",
       "       -2.44244366e-10, -2.05400341e-10, -1.68575378e-10, -1.33546576e-10,\n",
       "       -1.00075063e-10, -6.78519661e-11, -3.62234412e-11])"
      ]
     },
     "execution_count": 64,
     "metadata": {},
     "output_type": "execute_result"
    }
   ],
   "source": [
    "fcn.df2force(dummy_df, dummy_z, dummy_a, dummy_k, dummy_f0)"
   ]
  },
  {
   "cell_type": "code",
   "execution_count": 66,
   "id": "b582f82a-c49c-488c-b2b5-987677b8c7a9",
   "metadata": {},
   "outputs": [
    {
     "data": {
      "text/plain": [
       "<matplotlib.collections.PathCollection at 0x13d1751c0>"
      ]
     },
     "execution_count": 66,
     "metadata": {},
     "output_type": "execute_result"
    },
    {
     "data": {
      "image/png": "[encoded data removed]",
      "text/plain": [
       "<Figure size 432x288 with 1 Axes>"
      ]
     },
     "metadata": {
      "needs_background": "light"
     },
     "output_type": "display_data"
    }
   ],
   "source": [
    "plt.scatter(dummy_z[:-1], fcn.df2force(dummy_df, dummy_z, dummy_a, dummy_k, dummy_f0))"
   ]
  },
  {
   "cell_type": "code",
   "execution_count": null,
   "id": "174156f2-4e34-4794-a32a-3f4568112546",
   "metadata": {},
   "outputs": [],
   "source": []
  }
 ],
 "metadata": {
  "kernelspec": {
   "display_name": "Python 3 (ipykernel)",
   "language": "python",
   "name": "python3"
  },
  "language_info": {
   "codemirror_mode": {
    "name": "ipython",
    "version": 3
   },
   "file_extension": ".py",
   "mimetype": "text/x-python",
   "name": "python",
   "nbconvert_exporter": "python",
   "pygments_lexer": "ipython3",
   "version": "3.9.9"
  }
 },
 "nbformat": 4,
 "nbformat_minor": 5
}
